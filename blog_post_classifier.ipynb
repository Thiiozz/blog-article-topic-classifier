{
 "cells": [
  {
   "cell_type": "code",
   "execution_count": 1,
   "metadata": {},
   "outputs": [],
   "source": [
    "import pandas as pd\n",
    "\n",
    "from sklearn.pipeline import Pipeline\n",
    "from sklearn.feature_extraction.text import TfidfTransformer\n",
    "from sklearn.feature_extraction.text import CountVectorizer\n",
    "from sklearn.linear_model import SGDClassifier\n",
    "\n",
    "from sklearn.model_selection import train_test_split\n",
    "import sklearn.metrics"
   ]
  },
  {
   "cell_type": "code",
   "execution_count": 2,
   "metadata": {},
   "outputs": [],
   "source": [
    "# Used dataset is proposed by Kaggle it can be found at https://www.kaggle.com/danofer/sample-blog-authors/data \n",
    "# Loading dataset\n",
    "\n",
    "dataset_file_name = 'blogtext.csv'\n",
    "\n",
    "raw_df = pd.read_csv(dataset_file_name)"
   ]
  },
  {
   "cell_type": "code",
   "execution_count": 3,
   "metadata": {},
   "outputs": [
    {
     "data": {
      "text/plain": [
       "array(['Student', 'InvestmentBanking', 'indUnk', 'Non-Profit', 'Banking',\n",
       "       'Education', 'Engineering', 'Science', 'Communications-Media',\n",
       "       'BusinessServices', 'Sports-Recreation', 'Arts', 'Internet',\n",
       "       'Museums-Libraries', 'Accounting', 'Technology', 'Law',\n",
       "       'Consulting', 'Automotive', 'Religion', 'Fashion', 'Publishing',\n",
       "       'Marketing', 'LawEnforcement-Security', 'HumanResources',\n",
       "       'Telecommunications', 'Military', 'Government', 'Transportation',\n",
       "       'Architecture', 'Advertising', 'Agriculture', 'Biotech',\n",
       "       'RealEstate', 'Manufacturing', 'Construction', 'Chemicals',\n",
       "       'Maritime', 'Tourism', 'Environment'], dtype=object)"
      ]
     },
     "execution_count": 3,
     "metadata": {},
     "output_type": "execute_result"
    }
   ],
   "source": [
    "raw_df.topic.unique()"
   ]
  },
  {
   "cell_type": "code",
   "execution_count": 4,
   "metadata": {},
   "outputs": [
    {
     "data": {
      "text/html": [
       "<div>\n",
       "<style scoped>\n",
       "    .dataframe tbody tr th:only-of-type {\n",
       "        vertical-align: middle;\n",
       "    }\n",
       "\n",
       "    .dataframe tbody tr th {\n",
       "        vertical-align: top;\n",
       "    }\n",
       "\n",
       "    .dataframe thead th {\n",
       "        text-align: right;\n",
       "    }\n",
       "</style>\n",
       "<table border=\"1\" class=\"dataframe\">\n",
       "  <thead>\n",
       "    <tr style=\"text-align: right;\">\n",
       "      <th></th>\n",
       "      <th>topic</th>\n",
       "      <th>text</th>\n",
       "    </tr>\n",
       "  </thead>\n",
       "  <tbody>\n",
       "    <tr>\n",
       "      <th>573</th>\n",
       "      <td>Engineering</td>\n",
       "      <td>If I had a band I'd call it '...</td>\n",
       "    </tr>\n",
       "    <tr>\n",
       "      <th>574</th>\n",
       "      <td>Engineering</td>\n",
       "      <td>Well...  I hate to say it, bu...</td>\n",
       "    </tr>\n",
       "    <tr>\n",
       "      <th>575</th>\n",
       "      <td>Engineering</td>\n",
       "      <td>How do we move on now?  How d...</td>\n",
       "    </tr>\n",
       "    <tr>\n",
       "      <th>576</th>\n",
       "      <td>Engineering</td>\n",
       "      <td>Humor is my primary tool for ...</td>\n",
       "    </tr>\n",
       "    <tr>\n",
       "      <th>577</th>\n",
       "      <td>Engineering</td>\n",
       "      <td>Warning: If you know me and a...</td>\n",
       "    </tr>\n",
       "    <tr>\n",
       "      <th>578</th>\n",
       "      <td>Engineering</td>\n",
       "      <td>...Our Program already in Pro...</td>\n",
       "    </tr>\n",
       "    <tr>\n",
       "      <th>579</th>\n",
       "      <td>Engineering</td>\n",
       "      <td>So here's two for ya... and t...</td>\n",
       "    </tr>\n",
       "    <tr>\n",
       "      <th>580</th>\n",
       "      <td>Engineering</td>\n",
       "      <td>If you could live anywhere in...</td>\n",
       "    </tr>\n",
       "    <tr>\n",
       "      <th>581</th>\n",
       "      <td>Engineering</td>\n",
       "      <td>I had a lot of fun this weeke...</td>\n",
       "    </tr>\n",
       "    <tr>\n",
       "      <th>582</th>\n",
       "      <td>Engineering</td>\n",
       "      <td>Well I eat too much Chinese f...</td>\n",
       "    </tr>\n",
       "  </tbody>\n",
       "</table>\n",
       "</div>"
      ],
      "text/plain": [
       "           topic                                               text\n",
       "573  Engineering                   If I had a band I'd call it '...\n",
       "574  Engineering                   Well...  I hate to say it, bu...\n",
       "575  Engineering                   How do we move on now?  How d...\n",
       "576  Engineering                   Humor is my primary tool for ...\n",
       "577  Engineering                   Warning: If you know me and a...\n",
       "578  Engineering                   ...Our Program already in Pro...\n",
       "579  Engineering                   So here's two for ya... and t...\n",
       "580  Engineering                   If you could live anywhere in...\n",
       "581  Engineering                   I had a lot of fun this weeke...\n",
       "582  Engineering                   Well I eat too much Chinese f..."
      ]
     },
     "execution_count": 4,
     "metadata": {},
     "output_type": "execute_result"
    }
   ],
   "source": [
    "topics = ['Engineering', 'Arts', 'Fashion', 'Tourism']\n",
    "\n",
    "\n",
    "cleaned_df = raw_df[raw_df['topic'].isin(topics)]\n",
    "cleaned_df = cleaned_df[['topic','text']]\n",
    "\n",
    "\n",
    "cleaned_df.head(10)"
   ]
  },
  {
   "cell_type": "code",
   "execution_count": 5,
   "metadata": {},
   "outputs": [],
   "source": [
    "train, test = train_test_split(cleaned_df, test_size=0.2)"
   ]
  },
  {
   "cell_type": "code",
   "execution_count": 28,
   "metadata": {},
   "outputs": [
    {
     "data": {
      "text/plain": [
       "Pipeline(memory=None,\n",
       "     steps=[('vect', CountVectorizer(analyzer='word', binary=False, decode_error='strict',\n",
       "        dtype=<class 'numpy.int64'>, encoding='utf-8', input='content',\n",
       "        lowercase=True, max_df=1.0, max_features=None, min_df=1,\n",
       "        ngram_range=(1, 1), preprocessor=None, stop_words='english',\n",
       "        ...='l2', power_t=0.5, random_state=None,\n",
       "       shuffle=True, tol=None, verbose=0, warm_start=False))])"
      ]
     },
     "execution_count": 28,
     "metadata": {},
     "output_type": "execute_result"
    }
   ],
   "source": [
    "# Logistic regression approach\n",
    "\n",
    "reg_text_clf = Pipeline([\n",
    "    ('vect', CountVectorizer(stop_words='english', lowercase=False)),\n",
    "    ('tfidf', TfidfTransformer()),\n",
    "    ('reg', SGDClassifier(learning_rate='optimal', loss='hinge', max_iter=10000, penalty='l2'))\n",
    "])\n",
    "\n",
    "reg_text_clf.fit(train.text, train.topic)"
   ]
  },
  {
   "cell_type": "code",
   "execution_count": 29,
   "metadata": {},
   "outputs": [
    {
     "data": {
      "text/plain": [
       "0.719029374201788"
      ]
     },
     "execution_count": 29,
     "metadata": {},
     "output_type": "execute_result"
    }
   ],
   "source": [
    "# Prediction on the whole test dataset\n",
    "\n",
    "reg_predicted = reg_text_clf.predict(test.text)\n",
    "sklearn.metrics.f1_score(test.topic, reg_predicted, average='micro')"
   ]
  },
  {
   "cell_type": "code",
   "execution_count": 30,
   "metadata": {},
   "outputs": [
    {
     "name": "stdout",
     "output_type": "stream",
     "text": [
      "Engineering\n",
      "Arts\n"
     ]
    }
   ],
   "source": [
    "text_to_predict = reg_text_clf.predict([\n",
    "    'Engineering is the creative application of science, mathematical methods, and empirical evidence to the innovation, design, construction, operation and maintenance of structures, machines, materials, devices, systems, processes, and organizations. The discipline of engineering encompasses a broad range of more specialized fields of engineering, each with a more specific emphasis on particular areas of applied mathematics, applied science, and types of application. See glossary of engineering',\n",
    "    'Art is a creative activity that expresses imaginative or technical skill. It produces an artifact, also called a work of art, for others to experience. Those who do this are called artists. They hope to affect the emotions of people who experience it. Some people find art relaxing, or exciting, or informative. Many people disagree on how to define art. Some say people are driven to make art due to their inner creativity.'\n",
    "])\n",
    "\n",
    "for i in range(0, len(text_to_predict)):\n",
    "    print(text_to_predict[i])"
   ]
  }
 ],
 "metadata": {
  "kernelspec": {
   "display_name": "Python 3",
   "language": "python",
   "name": "python3"
  },
  "language_info": {
   "codemirror_mode": {
    "name": "ipython",
    "version": 3
   },
   "file_extension": ".py",
   "mimetype": "text/x-python",
   "name": "python",
   "nbconvert_exporter": "python",
   "pygments_lexer": "ipython3",
   "version": "3.5.2"
  }
 },
 "nbformat": 4,
 "nbformat_minor": 2
}
