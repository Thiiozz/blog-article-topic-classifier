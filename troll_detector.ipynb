{
  "cells": [
    {
      "metadata": {
        "_cell_guid": "79c7e3d0-c299-4dcb-8224-4455121ee9b0",
        "_uuid": "d629ff2d2480ee46fbb7e2d37f6b5fab8052498a",
        "trusted": true
      },
      "cell_type": "code",
      "source": "import pandas as pd\n\nraw_df = pd.read_json('../input/Sarcasm_Headlines_Dataset.json', lines=True)\nraw_df.head(2)",
      "execution_count": 65,
      "outputs": [
        {
          "output_type": "execute_result",
          "execution_count": 65,
          "data": {
            "text/plain": "                                        article_link     ...      is_sarcastic\n0  https://www.huffingtonpost.com/entry/versace-b...     ...                 0\n1  https://www.huffingtonpost.com/entry/roseanne-...     ...                 0\n\n[2 rows x 3 columns]",
            "text/html": "<div>\n<style scoped>\n    .dataframe tbody tr th:only-of-type {\n        vertical-align: middle;\n    }\n\n    .dataframe tbody tr th {\n        vertical-align: top;\n    }\n\n    .dataframe thead th {\n        text-align: right;\n    }\n</style>\n<table border=\"1\" class=\"dataframe\">\n  <thead>\n    <tr style=\"text-align: right;\">\n      <th></th>\n      <th>article_link</th>\n      <th>headline</th>\n      <th>is_sarcastic</th>\n    </tr>\n  </thead>\n  <tbody>\n    <tr>\n      <th>0</th>\n      <td>https://www.huffingtonpost.com/entry/versace-b...</td>\n      <td>former versace store clerk sues over secret 'b...</td>\n      <td>0</td>\n    </tr>\n    <tr>\n      <th>1</th>\n      <td>https://www.huffingtonpost.com/entry/roseanne-...</td>\n      <td>the 'roseanne' revival catches up to our thorn...</td>\n      <td>0</td>\n    </tr>\n  </tbody>\n</table>\n</div>"
          },
          "metadata": {}
        }
      ]
    },
    {
      "metadata": {
        "trusted": true,
        "_uuid": "bb9c5c2115bafab3b91ecfb2ed9be7d6f3a3283c"
      },
      "cell_type": "code",
      "source": "from nltk.corpus import stopwords\nimport string\nimport re\n\ncleaned_df = raw_df\n\ncleaned_df.pop('article_link')\ncleaned_df.dropna()\n\nstop = stopwords.words('english') + list(string.punctuation)\ncleaned_df['headline'] = cleaned_df['headline'].apply(lambda s: ' '.join([re.sub(r'\\W+', '', word.lower()) for word in s.split(' ') if word not in stop]))\n\ncleaned_df.head(2)",
      "execution_count": 66,
      "outputs": [
        {
          "output_type": "execute_result",
          "execution_count": 66,
          "data": {
            "text/plain": "                                            headline  is_sarcastic\n0  former versace store clerk sues secret black c...             0\n1  roseanne revival catches thorny political mood...             0",
            "text/html": "<div>\n<style scoped>\n    .dataframe tbody tr th:only-of-type {\n        vertical-align: middle;\n    }\n\n    .dataframe tbody tr th {\n        vertical-align: top;\n    }\n\n    .dataframe thead th {\n        text-align: right;\n    }\n</style>\n<table border=\"1\" class=\"dataframe\">\n  <thead>\n    <tr style=\"text-align: right;\">\n      <th></th>\n      <th>headline</th>\n      <th>is_sarcastic</th>\n    </tr>\n  </thead>\n  <tbody>\n    <tr>\n      <th>0</th>\n      <td>former versace store clerk sues secret black c...</td>\n      <td>0</td>\n    </tr>\n    <tr>\n      <th>1</th>\n      <td>roseanne revival catches thorny political mood...</td>\n      <td>0</td>\n    </tr>\n  </tbody>\n</table>\n</div>"
          },
          "metadata": {}
        }
      ]
    },
    {
      "metadata": {
        "trusted": true,
        "_uuid": "12c974efc7db13185f10357ad07b5b7c42cf4d33"
      },
      "cell_type": "code",
      "source": "from sklearn.pipeline import Pipeline\nfrom sklearn.feature_extraction.text import TfidfTransformer\nfrom sklearn.feature_extraction.text import CountVectorizer\nfrom sklearn.linear_model import SGDClassifier\n\nfrom sklearn.model_selection import train_test_split\nimport sklearn.metrics\n\ntrain, test = train_test_split(cleaned_df, test_size=0.2)\n\nreg_text_clf = Pipeline([\n    ('vect', CountVectorizer(stop_words='english', lowercase=True)),\n    ('tfidf', TfidfTransformer()),\n    ('reg', SGDClassifier(learning_rate='optimal'))\n])\n\nreg_text_clf.fit(train['headline'], train['is_sarcastic'])",
      "execution_count": 67,
      "outputs": [
        {
          "output_type": "stream",
          "text": "/opt/conda/lib/python3.6/site-packages/sklearn/linear_model/stochastic_gradient.py:166: FutureWarning: max_iter and tol parameters have been added in SGDClassifier in 0.19. If both are left unset, they default to max_iter=5 and tol=None. If tol is not None, max_iter defaults to max_iter=1000. From 0.21, default max_iter will be 1000, and default tol will be 1e-3.\n  FutureWarning)\n",
          "name": "stderr"
        },
        {
          "output_type": "execute_result",
          "execution_count": 67,
          "data": {
            "text/plain": "Pipeline(memory=None,\n     steps=[('vect', CountVectorizer(analyzer='word', binary=False, decode_error='strict',\n        dtype=<class 'numpy.int64'>, encoding='utf-8', input='content',\n        lowercase=True, max_df=1.0, max_features=None, min_df=1,\n        ngram_range=(1, 1), preprocessor=None, stop_words='english',\n        ...m_state=None, shuffle=True, tol=None,\n       validation_fraction=0.1, verbose=0, warm_start=False))])"
          },
          "metadata": {}
        }
      ]
    },
    {
      "metadata": {
        "trusted": true,
        "_uuid": "6aa9a32750bc910add3d4616d8525c8621dc5473"
      },
      "cell_type": "code",
      "source": "reg_predicted = reg_text_clf.predict(test['headline'])\nsklearn.metrics.f1_score(test['is_sarcastic'], reg_predicted, average='micro')",
      "execution_count": 68,
      "outputs": [
        {
          "output_type": "execute_result",
          "execution_count": 68,
          "data": {
            "text/plain": "0.7894047173343317"
          },
          "metadata": {}
        }
      ]
    },
    {
      "metadata": {
        "trusted": true,
        "_uuid": "326cfc1247780915bf5cae5a283617c3c6dabfb8"
      },
      "cell_type": "code",
      "source": "sentence_to_predict = ['you are very nice thank you so much !','you are very nice dumb ass !']\ntext_to_predict = reg_text_clf.predict(sentence_to_predict)\n\nfor i in range(0, len(text_to_predict)):\n    print(\"%s -> %s\" % (sentence_to_predict[i], ('it looks fair', 'sounds like a troll !') [text_to_predict[i]]))\n",
      "execution_count": 69,
      "outputs": [
        {
          "output_type": "stream",
          "text": "you are very nice thank you so much ! -> it looks fair\nyou are very nice dumb ass ! -> sounds like a troll !\n",
          "name": "stdout"
        }
      ]
    }
  ],
  "metadata": {
    "kernelspec": {
      "display_name": "Python 3",
      "language": "python",
      "name": "python3"
    },
    "language_info": {
      "name": "python",
      "version": "3.6.6",
      "mimetype": "text/x-python",
      "codemirror_mode": {
        "name": "ipython",
        "version": 3
      },
      "pygments_lexer": "ipython3",
      "nbconvert_exporter": "python",
      "file_extension": ".py"
    }
  },
  "nbformat": 4,
  "nbformat_minor": 1
}